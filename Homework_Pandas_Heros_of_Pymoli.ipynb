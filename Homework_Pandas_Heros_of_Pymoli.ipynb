{
 "cells": [
  {
   "cell_type": "markdown",
   "metadata": {},
   "source": [
    "### Note\n",
    "* Instructions have been included for each segment. You do not have to follow them exactly, but they are included to help you think through the steps."
   ]
  },
  {
   "cell_type": "code",
   "execution_count": 62,
   "metadata": {
    "tags": []
   },
   "outputs": [],
   "source": [
    "# Dependencies and Setup\n",
    "import pandas as pd\n",
    "import numpy as np\n",
    "\n",
    "# File to Load (Remember to Change These)\n",
    "file_to_load = \"Resources/purchase_data.csv\"\n",
    "\n",
    "# To store the Purchase_data file into a Pandas data frame\n",
    "purchase_data = pd.read_csv(file_to_load)\n",
    "purchase_data_df = pd.DataFrame(purchase_data)"
   ]
  },
  {
   "cell_type": "markdown",
   "metadata": {},
   "source": [
    "## Player Count\n"
   ]
  },
  {
   "cell_type": "markdown",
   "metadata": {},
   "source": [
    "* Display the total number of players\n"
   ]
  },
  {
   "cell_type": "code",
   "execution_count": 63,
   "metadata": {},
   "outputs": [
    {
     "data": {
      "text/html": [
       "<div>\n",
       "<style scoped>\n",
       "    .dataframe tbody tr th:only-of-type {\n",
       "        vertical-align: middle;\n",
       "    }\n",
       "\n",
       "    .dataframe tbody tr th {\n",
       "        vertical-align: top;\n",
       "    }\n",
       "\n",
       "    .dataframe thead th {\n",
       "        text-align: right;\n",
       "    }\n",
       "</style>\n",
       "<table border=\"1\" class=\"dataframe\">\n",
       "  <thead>\n",
       "    <tr style=\"text-align: right;\">\n",
       "      <th></th>\n",
       "      <th>Total Number of Players</th>\n",
       "    </tr>\n",
       "  </thead>\n",
       "  <tbody>\n",
       "    <tr>\n",
       "      <th>0</th>\n",
       "      <td>576</td>\n",
       "    </tr>\n",
       "  </tbody>\n",
       "</table>\n",
       "</div>"
      ],
      "text/plain": [
       "   Total Number of Players\n",
       "0                      576"
      ]
     },
     "execution_count": 63,
     "metadata": {},
     "output_type": "execute_result"
    }
   ],
   "source": [
    "# To calculate the the number of (unique) players, based on the len calculation on column \"SN\"\n",
    "number_of_players = len(purchase_data[\"SN\"].value_counts())\n",
    "\n",
    "# To display in a Dataframe the \"Total Number of (unique) Players in the purchase_data.csv\" file\n",
    "purchase_data_df1 = pd.DataFrame({\"Total Number of Players\":[number_of_players]})\n",
    "purchase_data_df1"
   ]
  },
  {
   "cell_type": "markdown",
   "metadata": {},
   "source": [
    "## Purchasing Analysis (Total)"
   ]
  },
  {
   "cell_type": "markdown",
   "metadata": {},
   "source": [
    "* Run basic calculations to obtain number of unique items, average price, etc.\n",
    "\n",
    "\n",
    "* Create a summary data frame to hold the results\n",
    "\n",
    "\n",
    "* Optional: give the displayed data cleaner formatting\n",
    "\n",
    "\n",
    "* Display the summary data frame\n"
   ]
  },
  {
   "cell_type": "code",
   "execution_count": 64,
   "metadata": {},
   "outputs": [
    {
     "data": {
      "text/html": [
       "<style  type=\"text/css\" >\n",
       "</style><table id=\"T_52743_\" ><thead>    <tr>        <th class=\"blank level0\" ></th>        <th class=\"col_heading level0 col0\" >Number of Unique Items</th>        <th class=\"col_heading level0 col1\" >Average Price</th>        <th class=\"col_heading level0 col2\" >Number_of_Purchases</th>        <th class=\"col_heading level0 col3\" >Total Revenue</th>    </tr></thead><tbody>\n",
       "                <tr>\n",
       "                        <th id=\"T_52743_level0_row0\" class=\"row_heading level0 row0\" >0</th>\n",
       "                        <td id=\"T_52743_row0_col0\" class=\"data row0 col0\" >179</td>\n",
       "                        <td id=\"T_52743_row0_col1\" class=\"data row0 col1\" >$3.05</td>\n",
       "                        <td id=\"T_52743_row0_col2\" class=\"data row0 col2\" >780</td>\n",
       "                        <td id=\"T_52743_row0_col3\" class=\"data row0 col3\" >$2,379.77</td>\n",
       "            </tr>\n",
       "    </tbody></table>"
      ],
      "text/plain": [
       "<pandas.io.formats.style.Styler at 0x2b2989de2b0>"
      ]
     },
     "execution_count": 64,
     "metadata": {},
     "output_type": "execute_result"
    }
   ],
   "source": [
    "#Calculations for: Number_of_Unique_items, Average_Purchase_Price, Number_of_Purchases, and Total_of_Revenue   \n",
    "Number_of_Unique_items_item_name = len((purchase_data[\"Item Name\"]).unique())\n",
    "Average_Purchase_Price = (purchase_data[\"Price\"]).mean()\n",
    "Number_of_Purchases = (purchase_data[\"Purchase ID\"]).count()\n",
    "Total_of_Revenue = (purchase_data[\"Price\"]).sum()\n",
    "\n",
    "# To display the Number of Unique Items, Average Price, Number_of_Purchases, and Total Revenue calculations into a Dataframe\n",
    "Display_summary_data_frame = pd.DataFrame({\"Number of Unique Items\":[Number_of_Unique_items_item_name],\"Average Price\":[Average_Purchase_Price],\"Number_of_Purchases\":[Number_of_Purchases], \"Total Revenue\": [Total_of_Revenue]})\n",
    "Display_summary_data_frame.style.format({\"Total Revenue\":\"${:,.2f}\", \"Average Price\":\"${:,.2f}\"})\n"
   ]
  },
  {
   "cell_type": "markdown",
   "metadata": {},
   "source": [
    "## Gender Demographics"
   ]
  },
  {
   "cell_type": "markdown",
   "metadata": {},
   "source": [
    "* Percentage and Count of Male Players\n",
    "\n",
    "\n",
    "* Percentage and Count of Female Players\n",
    "\n",
    "\n",
    "* Percentage and Count of Other / Non-Disclosed\n",
    "\n",
    "\n"
   ]
  },
  {
   "cell_type": "code",
   "execution_count": 65,
   "metadata": {},
   "outputs": [],
   "source": [
    "# copy of the purchase data file\n",
    "GenDemo_df = purchase_data.copy()\n",
    "\n",
    "# To drop duplicate \"SN's\" (user names) in file data\n",
    "# Note: Parameters \"subset\" considers column \"SN\" for identifying duplicates, \"keep first\" means keep the first duplicate and drop the others\n",
    "GenDemo_df_drop_duplicate_SN = GenDemo_df.drop_duplicates(subset='SN', keep='first')"
   ]
  },
  {
   "cell_type": "code",
   "execution_count": 66,
   "metadata": {},
   "outputs": [
    {
     "data": {
      "text/html": [
       "<div>\n",
       "<style scoped>\n",
       "    .dataframe tbody tr th:only-of-type {\n",
       "        vertical-align: middle;\n",
       "    }\n",
       "\n",
       "    .dataframe tbody tr th {\n",
       "        vertical-align: top;\n",
       "    }\n",
       "\n",
       "    .dataframe thead th {\n",
       "        text-align: right;\n",
       "    }\n",
       "</style>\n",
       "<table border=\"1\" class=\"dataframe\">\n",
       "  <thead>\n",
       "    <tr style=\"text-align: right;\">\n",
       "      <th></th>\n",
       "      <th>Total Count</th>\n",
       "      <th>Percentage of Players</th>\n",
       "    </tr>\n",
       "  </thead>\n",
       "  <tbody>\n",
       "    <tr>\n",
       "      <th>Male</th>\n",
       "      <td>484</td>\n",
       "      <td>84.03%</td>\n",
       "    </tr>\n",
       "    <tr>\n",
       "      <th>Female</th>\n",
       "      <td>81</td>\n",
       "      <td>14.06%</td>\n",
       "    </tr>\n",
       "    <tr>\n",
       "      <th>Other / Non-Disclosed</th>\n",
       "      <td>11</td>\n",
       "      <td>1.91%</td>\n",
       "    </tr>\n",
       "  </tbody>\n",
       "</table>\n",
       "</div>"
      ],
      "text/plain": [
       "                       Total Count Percentage of Players\n",
       "Male                           484                84.03%\n",
       "Female                          81                14.06%\n",
       "Other / Non-Disclosed           11                 1.91%"
      ]
     },
     "execution_count": 66,
     "metadata": {},
     "output_type": "execute_result"
    }
   ],
   "source": [
    "# To calculate count summary by Gender\n",
    "GenDemo_totals = GenDemo_df_drop_duplicate_SN[\"Gender\"].value_counts()\n",
    "\n",
    "# Calculates the Percentage of Players by Gender:\n",
    "GenDemo_percents = round(GenDemo_df_drop_duplicate_SN[\"Gender\"].value_counts(normalize=True) * 100, 2)\n",
    "\n",
    "# To set up a DataFrame wih total (unique) counts by Gender and Percentage of Players by Gender  \n",
    "GenDemo_Finished = pd.DataFrame([])\n",
    "GenDemo_Finished[\"Total Count\"] = GenDemo_totals\n",
    "GenDemo_Finished[\"Percentage of Players\"] = GenDemo_percents\n",
    "GenDemo_Finished[\"Percentage of Players\"] = GenDemo_Finished[\"Percentage of Players\"].map(\"{:.2f}%\".format)\n",
    "GenDemo_Finished"
   ]
  },
  {
   "cell_type": "markdown",
   "metadata": {},
   "source": [
    "\n",
    "## Purchasing Analysis (Gender)"
   ]
  },
  {
   "cell_type": "markdown",
   "metadata": {},
   "source": [
    "* Run basic calculations to obtain purchase count, avg. purchase price, avg. purchase total per person etc. by gender\n",
    "\n",
    "\n",
    "\n",
    "\n",
    "* Create a summary data frame to hold the results\n",
    "\n",
    "\n",
    "* Optional: give the displayed data cleaner formatting\n",
    "\n",
    "\n",
    "* Display the summary data frame"
   ]
  },
  {
   "cell_type": "code",
   "execution_count": 67,
   "metadata": {},
   "outputs": [],
   "source": [
    "# To calculate the number of total purchases split by Gender  \n",
    "purch_analyis_df = purchase_data[[\"Gender\", \"Price\", \"SN\"]]\n",
    "gender_count = purch_analyis_df[\"Gender\"].value_counts()"
   ]
  },
  {
   "cell_type": "code",
   "execution_count": 91,
   "metadata": {},
   "outputs": [],
   "source": [
    "# Summary of purchases (price column) by Gender\n",
    "purch_analysis_df_group = purchase_data.groupby([\"Gender\"])\n",
    "purch_analysis_df_price_sum = purch_analysis_df_group[\"Price\"].sum()\n",
    "\n",
    "# Summary of purchases in Dataframe format by Gender\n",
    "purch_analysis_df_price_sum_df = pd.DataFrame(purch_analysis_df_price_sum)\n",
    "purch_analysis_df_price_sum_df = purch_analysis_df_price_sum_df.rename(columns={\"Price\":\"Total Purchase Value\"})\n",
    "purch_analysis_df_price_sum_df[\"Total Purchase Value\"] = purch_analysis_df_price_sum_df[\"Total Purchase Value\"].map(\"${:.2f}\".format)"
   ]
  },
  {
   "cell_type": "code",
   "execution_count": 69,
   "metadata": {},
   "outputs": [
    {
     "data": {
      "text/html": [
       "<div>\n",
       "<style scoped>\n",
       "    .dataframe tbody tr th:only-of-type {\n",
       "        vertical-align: middle;\n",
       "    }\n",
       "\n",
       "    .dataframe tbody tr th {\n",
       "        vertical-align: top;\n",
       "    }\n",
       "\n",
       "    .dataframe thead th {\n",
       "        text-align: right;\n",
       "    }\n",
       "</style>\n",
       "<table border=\"1\" class=\"dataframe\">\n",
       "  <thead>\n",
       "    <tr style=\"text-align: right;\">\n",
       "      <th></th>\n",
       "      <th>Purchase Count</th>\n",
       "      <th>Average Purchase Price</th>\n",
       "      <th>Total Purchase Value</th>\n",
       "      <th>Avg Total Purchase per Person</th>\n",
       "    </tr>\n",
       "    <tr>\n",
       "      <th>Gender</th>\n",
       "      <th></th>\n",
       "      <th></th>\n",
       "      <th></th>\n",
       "      <th></th>\n",
       "    </tr>\n",
       "  </thead>\n",
       "  <tbody>\n",
       "    <tr>\n",
       "      <th>Female</th>\n",
       "      <td>113</td>\n",
       "      <td>$3.20</td>\n",
       "      <td>$361.94</td>\n",
       "      <td>$4.47</td>\n",
       "    </tr>\n",
       "    <tr>\n",
       "      <th>Male</th>\n",
       "      <td>652</td>\n",
       "      <td>$3.02</td>\n",
       "      <td>$1967.64</td>\n",
       "      <td>$4.07</td>\n",
       "    </tr>\n",
       "    <tr>\n",
       "      <th>Other / Non-Disclosed</th>\n",
       "      <td>15</td>\n",
       "      <td>$3.35</td>\n",
       "      <td>$50.19</td>\n",
       "      <td>$4.56</td>\n",
       "    </tr>\n",
       "  </tbody>\n",
       "</table>\n",
       "</div>"
      ],
      "text/plain": [
       "                       Purchase Count Average Purchase Price  \\\n",
       "Gender                                                         \n",
       "Female                            113                  $3.20   \n",
       "Male                              652                  $3.02   \n",
       "Other / Non-Disclosed              15                  $3.35   \n",
       "\n",
       "                      Total Purchase Value Avg Total Purchase per Person  \n",
       "Gender                                                                    \n",
       "Female                             $361.94                         $4.47  \n",
       "Male                              $1967.64                         $4.07  \n",
       "Other / Non-Disclosed               $50.19                         $4.56  "
      ]
     },
     "execution_count": 69,
     "metadata": {},
     "output_type": "execute_result"
    }
   ],
   "source": [
    "# To calculate column for Purchase Count\n",
    "purch_analysis_df_price_avg = purch_analysis_df_group.mean()\n",
    "purch_analysis_df_price_avg[\"Purchase Count\"] = gender_count\n",
    "\n",
    "# To calculate column for \"Average Purchase Price\" \n",
    "purch_analysis_df_price_avg = purch_analysis_df_price_avg.rename(columns={\"Price\":\"Average Purchase Price\"})\n",
    "purch_analysis_df_price_avg[\"Average Purchase Price\"] = purch_analysis_df_price_avg[\"Average Purchase Price\"].map(\"${:.2f}\".format)\n",
    "\n",
    "# To calculate column Avg Total Purchase Value for the Purchase Analysis report \n",
    "purch_analysis_df_price_avg[\"Total Purchase Value\"] = purch_analysis_df_price_sum\n",
    "purch_analysis_df_price_avg[\"Total Purchase Value\"] = purch_analysis_df_price_avg[\"Total Purchase Value\"].map(\"${:.2f}\".format)\n",
    "\n",
    "# To add column Avg Total Purchase per Person for the Purchase Analysis report \n",
    "purch_analysis_df_price_avg[\"Avg Total Purchase per Person\"] = purch_analysis_df_price_sum / GenDemo_totals\n",
    "purch_analysis_df_price_avg[\"Avg Total Purchase per Person\"] = purch_analysis_df_price_avg[\"Avg Total Purchase per Person\"].map(\"${:.2f}\".format)\n",
    "\n",
    "# Final Analyis Report - To display or limit only cols \"Purchase Count\", \"Average Purchase Price\", \"Total Purchase Value\", \"Avg Total Purchase per Person\" \n",
    "columns = [\"Purchase Count\", \"Average Purchase Price\", \"Total Purchase Value\", \"Avg Total Purchase per Person\"]\n",
    "final_pur_analysis_gender = purch_analysis_df_price_avg[columns]\n",
    "final_pur_analysis_gender "
   ]
  },
  {
   "cell_type": "code",
   "execution_count": null,
   "metadata": {},
   "outputs": [],
   "source": []
  },
  {
   "cell_type": "markdown",
   "metadata": {},
   "source": [
    "## Age Demographics"
   ]
  },
  {
   "cell_type": "markdown",
   "metadata": {},
   "source": [
    "* Establish bins for ages\n",
    "\n",
    "\n",
    "* Categorize the existing players using the age bins. Hint: use pd.cut()\n",
    "\n",
    "\n",
    "* Calculate the numbers and percentages by age group\n",
    "\n",
    "\n",
    "* Create a summary data frame to hold the results\n",
    "\n",
    "\n",
    "* Optional: round the percentage column to two decimal points\n",
    "\n",
    "\n",
    "* Display Age Demographics Table\n"
   ]
  },
  {
   "cell_type": "code",
   "execution_count": 70,
   "metadata": {},
   "outputs": [],
   "source": [
    "#To set up a separate Bin Category for each the age groups.  \n",
    "Bin_Age_Numbers = [0, 9, 14, 19, 24, 29, 34, 39, 99]\n",
    "Bin_Groups = [\"<10\", \"10-14\", \"15-19\", \"20-24\", \"25-29\", \"30-34\", \"35-39\", \"40+\"] "
   ]
  },
  {
   "cell_type": "code",
   "execution_count": 71,
   "metadata": {},
   "outputs": [],
   "source": [
    "# New DataFrame for age demographics\n",
    "age_demographics_df = pd.DataFrame([])\n",
    "\n",
    "#lists out the BinGroup Category for each SN (from Col Age in purchase datafile, note: duplicate SN's have been dropped in this file)\n",
    "age_demographics_df[\"Ages\"] = pd.cut(GenDemo_df_drop_duplicate_SN[\"Age\"], Bin_Age_Numbers, labels=Bin_Groups)"
   ]
  },
  {
   "cell_type": "code",
   "execution_count": 72,
   "metadata": {},
   "outputs": [],
   "source": [
    "#lists out the Bin Group and Age (per the purchase data file) for each SN \n",
    "age_demographics_df[\"Total Count\"] = GenDemo_df_drop_duplicate_SN[\"Age\"]"
   ]
  },
  {
   "cell_type": "code",
   "execution_count": 93,
   "metadata": {},
   "outputs": [],
   "source": [
    "# to generate the percentage values associated with each age category. Also, round each percentage by 2 decimal places\n",
    "percent_age_demographics = round(age_demographics_df[\"Ages\"].value_counts(normalize=True) * 100, 2)"
   ]
  },
  {
   "cell_type": "code",
   "execution_count": 74,
   "metadata": {},
   "outputs": [
    {
     "data": {
      "text/html": [
       "<div>\n",
       "<style scoped>\n",
       "    .dataframe tbody tr th:only-of-type {\n",
       "        vertical-align: middle;\n",
       "    }\n",
       "\n",
       "    .dataframe tbody tr th {\n",
       "        vertical-align: top;\n",
       "    }\n",
       "\n",
       "    .dataframe thead th {\n",
       "        text-align: right;\n",
       "    }\n",
       "</style>\n",
       "<table border=\"1\" class=\"dataframe\">\n",
       "  <thead>\n",
       "    <tr style=\"text-align: right;\">\n",
       "      <th></th>\n",
       "      <th>Total Count</th>\n",
       "      <th>Percentage of Players</th>\n",
       "    </tr>\n",
       "  </thead>\n",
       "  <tbody>\n",
       "    <tr>\n",
       "      <th>&lt;10</th>\n",
       "      <td>17</td>\n",
       "      <td>2.95%</td>\n",
       "    </tr>\n",
       "    <tr>\n",
       "      <th>10-14</th>\n",
       "      <td>22</td>\n",
       "      <td>3.82%</td>\n",
       "    </tr>\n",
       "    <tr>\n",
       "      <th>15-19</th>\n",
       "      <td>107</td>\n",
       "      <td>18.58%</td>\n",
       "    </tr>\n",
       "    <tr>\n",
       "      <th>20-24</th>\n",
       "      <td>258</td>\n",
       "      <td>44.79%</td>\n",
       "    </tr>\n",
       "    <tr>\n",
       "      <th>25-29</th>\n",
       "      <td>77</td>\n",
       "      <td>13.37%</td>\n",
       "    </tr>\n",
       "    <tr>\n",
       "      <th>30-34</th>\n",
       "      <td>52</td>\n",
       "      <td>9.03%</td>\n",
       "    </tr>\n",
       "    <tr>\n",
       "      <th>35-39</th>\n",
       "      <td>31</td>\n",
       "      <td>5.38%</td>\n",
       "    </tr>\n",
       "    <tr>\n",
       "      <th>40+</th>\n",
       "      <td>12</td>\n",
       "      <td>2.08%</td>\n",
       "    </tr>\n",
       "  </tbody>\n",
       "</table>\n",
       "</div>"
      ],
      "text/plain": [
       "       Total Count Percentage of Players\n",
       "<10             17                 2.95%\n",
       "10-14           22                 3.82%\n",
       "15-19          107                18.58%\n",
       "20-24          258                44.79%\n",
       "25-29           77                13.37%\n",
       "30-34           52                 9.03%\n",
       "35-39           31                 5.38%\n",
       "40+             12                 2.08%"
      ]
     },
     "execution_count": 74,
     "metadata": {},
     "output_type": "execute_result"
    }
   ],
   "source": [
    "# to add a new Dataframe for the Age Demographics\n",
    "final_age_demographics_df = pd.DataFrame([])\n",
    "\n",
    "# to add column Total Count to the Dataframe report \n",
    "final_age_demographics_df[\"Total Count\"] = age_demographics_df[\"Ages\"].value_counts()\n",
    "\n",
    "# to add the column \"Pecentage of Players\" to the Data Frame report.  Also, to format the percentage amounts as \"%\"\n",
    "final_age_demographics_df[\"Percentage of Players\"] = percent_age_demographics\n",
    "final_age_demographics_df[\"Percentage of Players\"] = final_age_demographics_df[\"Percentage of Players\"].map(\"{:.2f}%\".format)\n",
    "\n",
    "# to Sort the final age demographics Dataframe by age category\n",
    "final_age_demographics_df.sort_index(inplace=True)\n",
    "final_age_demographics_df"
   ]
  },
  {
   "cell_type": "markdown",
   "metadata": {},
   "source": [
    "## Purchasing Analysis (Age)"
   ]
  },
  {
   "cell_type": "markdown",
   "metadata": {},
   "source": [
    "* Bin the purchase_data data frame by age\n",
    "\n",
    "\n",
    "* Run basic calculations to obtain purchase count, avg. purchase price, avg. purchase total per person etc. in the table below\n",
    "\n",
    "\n",
    "* Create a summary data frame to hold the results\n",
    "\n",
    "\n",
    "* Optional: give the displayed data cleaner formatting\n",
    "\n",
    "\n",
    "* Display the summary data frame"
   ]
  },
  {
   "cell_type": "code",
   "execution_count": 75,
   "metadata": {},
   "outputs": [],
   "source": [
    "#purchase count by age\n",
    "GenDemo_by_age_group_df = GenDemo_df.groupby([\"Age\"])\n",
    "sum_of_purchases_by_age = GenDemo_by_age_group_df[\"Price\"].sum()\n",
    "#sum_of_purchases_by_age"
   ]
  },
  {
   "cell_type": "code",
   "execution_count": 76,
   "metadata": {},
   "outputs": [],
   "source": [
    "#DataFrame by age group category also listing the price (for each row) in the purchase_data.csv data file\n",
    "purchases_by_age = pd.DataFrame([])\n",
    "purchases_by_age[\"Ages\"] = pd.cut(purchase_data[\"Age\"], Bin_Age_Numbers, labels=Bin_Groups)\n",
    "purchases_by_age[\"Purchase_Price\"] = purchase_data[\"Price\"] \n",
    "#purchases_by_age"
   ]
  },
  {
   "cell_type": "code",
   "execution_count": 77,
   "metadata": {},
   "outputs": [],
   "source": [
    "#Total Puchase Value\n",
    "age_group_age_purch_analysis = purchases_by_age.groupby([\"Ages\"])\n",
    "age_group_age_purch_analysis_sum = age_group_age_purch_analysis[\"Purchase_Price\"].sum()\n",
    "#age_group_age_purch_analysis_sum"
   ]
  },
  {
   "cell_type": "code",
   "execution_count": 78,
   "metadata": {},
   "outputs": [],
   "source": [
    "#Average Purchase Prices for each age group\n",
    "final_DataFrame_for_Purhase_Analysis = pd.DataFrame([])\n",
    "final_DataFrame_for_Purhase_Analysis[\"Purchase_Count\"] = purchases_by_age[\"Ages\"].value_counts()\n",
    "final_DataFrame_for_Purhase_Analysis[\"Average Purchase Price\"] = age_group_age_purch_analysis_sum / purchases_by_age[\"Ages\"].value_counts()\n",
    "final_DataFrame_for_Purhase_Analysis[\"Average Purchase Price\"] = final_DataFrame_for_Purhase_Analysis[\"Average Purchase Price\"].map(\"${:,.2f}\".format)\n",
    "#final_DataFrame_for_Purhase_Analysis"
   ]
  },
  {
   "cell_type": "code",
   "execution_count": 79,
   "metadata": {},
   "outputs": [],
   "source": [
    "#Total Purchas Values by Age Group\n",
    "final_DataFrame_for_Purhase_Analysis[\"Total Purchase Value\"] = age_group_age_purch_analysis_sum\n",
    "final_DataFrame_for_Purhase_Analysis[\"Total Purchase Value\"] = final_DataFrame_for_Purhase_Analysis[\"Total Purchase Value\"].map(\"${:,.2f}\".format)\n",
    "#final_DataFrame_for_Purhase_Analysis"
   ]
  },
  {
   "cell_type": "code",
   "execution_count": 80,
   "metadata": {},
   "outputs": [
    {
     "data": {
      "text/html": [
       "<div>\n",
       "<style scoped>\n",
       "    .dataframe tbody tr th:only-of-type {\n",
       "        vertical-align: middle;\n",
       "    }\n",
       "\n",
       "    .dataframe tbody tr th {\n",
       "        vertical-align: top;\n",
       "    }\n",
       "\n",
       "    .dataframe thead th {\n",
       "        text-align: right;\n",
       "    }\n",
       "</style>\n",
       "<table border=\"1\" class=\"dataframe\">\n",
       "  <thead>\n",
       "    <tr style=\"text-align: right;\">\n",
       "      <th></th>\n",
       "      <th>Purchase_Count</th>\n",
       "      <th>Average Purchase Price</th>\n",
       "      <th>Total Purchase Value</th>\n",
       "      <th>Avg Total Purchase per Person</th>\n",
       "    </tr>\n",
       "  </thead>\n",
       "  <tbody>\n",
       "    <tr>\n",
       "      <th>&lt;10</th>\n",
       "      <td>23</td>\n",
       "      <td>$3.35</td>\n",
       "      <td>$77.13</td>\n",
       "      <td>$4.54</td>\n",
       "    </tr>\n",
       "    <tr>\n",
       "      <th>10-14</th>\n",
       "      <td>28</td>\n",
       "      <td>$2.96</td>\n",
       "      <td>$82.78</td>\n",
       "      <td>$3.76</td>\n",
       "    </tr>\n",
       "    <tr>\n",
       "      <th>15-19</th>\n",
       "      <td>136</td>\n",
       "      <td>$3.04</td>\n",
       "      <td>$412.89</td>\n",
       "      <td>$3.86</td>\n",
       "    </tr>\n",
       "    <tr>\n",
       "      <th>20-24</th>\n",
       "      <td>365</td>\n",
       "      <td>$3.05</td>\n",
       "      <td>$1,114.06</td>\n",
       "      <td>$4.32</td>\n",
       "    </tr>\n",
       "    <tr>\n",
       "      <th>25-29</th>\n",
       "      <td>101</td>\n",
       "      <td>$2.90</td>\n",
       "      <td>$293.00</td>\n",
       "      <td>$3.81</td>\n",
       "    </tr>\n",
       "    <tr>\n",
       "      <th>30-34</th>\n",
       "      <td>73</td>\n",
       "      <td>$2.93</td>\n",
       "      <td>$214.00</td>\n",
       "      <td>$4.12</td>\n",
       "    </tr>\n",
       "    <tr>\n",
       "      <th>35-39</th>\n",
       "      <td>41</td>\n",
       "      <td>$3.60</td>\n",
       "      <td>$147.67</td>\n",
       "      <td>$4.76</td>\n",
       "    </tr>\n",
       "    <tr>\n",
       "      <th>40+</th>\n",
       "      <td>13</td>\n",
       "      <td>$2.94</td>\n",
       "      <td>$38.24</td>\n",
       "      <td>$3.19</td>\n",
       "    </tr>\n",
       "  </tbody>\n",
       "</table>\n",
       "</div>"
      ],
      "text/plain": [
       "       Purchase_Count Average Purchase Price Total Purchase Value  \\\n",
       "<10                23                  $3.35               $77.13   \n",
       "10-14              28                  $2.96               $82.78   \n",
       "15-19             136                  $3.04              $412.89   \n",
       "20-24             365                  $3.05            $1,114.06   \n",
       "25-29             101                  $2.90              $293.00   \n",
       "30-34              73                  $2.93              $214.00   \n",
       "35-39              41                  $3.60              $147.67   \n",
       "40+                13                  $2.94               $38.24   \n",
       "\n",
       "      Avg Total Purchase per Person  \n",
       "<10                           $4.54  \n",
       "10-14                         $3.76  \n",
       "15-19                         $3.86  \n",
       "20-24                         $4.32  \n",
       "25-29                         $3.81  \n",
       "30-34                         $4.12  \n",
       "35-39                         $4.76  \n",
       "40+                           $3.19  "
      ]
     },
     "execution_count": 80,
     "metadata": {},
     "output_type": "execute_result"
    }
   ],
   "source": [
    "#Average Total Purchase per Person\n",
    "final_DataFrame_for_Purhase_Analysis[\"Avg Total Purchase per Person\"] = age_group_age_purch_analysis_sum / age_demographics_df[\"Ages\"].value_counts()\n",
    "final_DataFrame_for_Purhase_Analysis[\"Avg Total Purchase per Person\"] = final_DataFrame_for_Purhase_Analysis[\"Avg Total Purchase per Person\"].map(\"${:,.2f}\".format)\n",
    "final_DataFrame_for_Purhase_Analysis.sort_index(inplace=True)\n",
    "final_DataFrame_for_Purhase_Analysis"
   ]
  },
  {
   "cell_type": "markdown",
   "metadata": {},
   "source": [
    "## Top Spenders"
   ]
  },
  {
   "cell_type": "markdown",
   "metadata": {},
   "source": [
    "* Run basic calculations to obtain the results in the table below\n",
    "\n",
    "\n",
    "* Create a summary data frame to hold the results\n",
    "\n",
    "\n",
    "* Sort the total purchase value column in descending order\n",
    "\n",
    "\n",
    "* Optional: give the displayed data cleaner formatting\n",
    "\n",
    "\n",
    "* Display a preview of the summary data frame\n",
    "\n"
   ]
  },
  {
   "cell_type": "code",
   "execution_count": 81,
   "metadata": {},
   "outputs": [],
   "source": [
    "# to establish new dataframe for Top Spenders\n",
    "top_spenders_df = pd.DataFrame([])\n",
    "\n",
    "# to add columns for both SN and Price into the Dataframe\n",
    "top_spenders_df[\"SN\"] = purchase_data[\"SN\"]\n",
    "top_spenders_df[\"Price\"] = purchase_data[\"Price\"]"
   ]
  },
  {
   "cell_type": "code",
   "execution_count": 82,
   "metadata": {},
   "outputs": [],
   "source": [
    "# to group the dataframe by SN and to summarize by price\n",
    "top_spenders_df_group = top_spenders_df.groupby([\"SN\"])\n",
    "top_spenders_df_group = top_spenders_df_group[\"Price\"].sum()"
   ]
  },
  {
   "cell_type": "code",
   "execution_count": 83,
   "metadata": {},
   "outputs": [],
   "source": [
    "# to calculate the Purchase count by SN, also to add SN and Purchase Count to the final dataframe\n",
    "top_spenders_df_final = pd.DataFrame([])\n",
    "top_spenders_df_final[\"Purchase Count\"] = top_spenders_df[\"SN\"].value_counts()"
   ]
  },
  {
   "cell_type": "code",
   "execution_count": 84,
   "metadata": {},
   "outputs": [],
   "source": [
    "# to calculate and format Average Purchase Price by SN, also to add Average Purchase Price to the final dataframe\n",
    "top_spenders_df_final[\"Average Purchase Price\"] = top_spenders_df_group / top_spenders_df[\"SN\"].value_counts()\n",
    "top_spenders_df_final[\"Average Purchase Price\"] = top_spenders_df_final[\"Average Purchase Price\"].map(\"${:,.2f}\".format)"
   ]
  },
  {
   "cell_type": "code",
   "execution_count": 85,
   "metadata": {},
   "outputs": [
    {
     "data": {
      "text/html": [
       "<div>\n",
       "<style scoped>\n",
       "    .dataframe tbody tr th:only-of-type {\n",
       "        vertical-align: middle;\n",
       "    }\n",
       "\n",
       "    .dataframe tbody tr th {\n",
       "        vertical-align: top;\n",
       "    }\n",
       "\n",
       "    .dataframe thead th {\n",
       "        text-align: right;\n",
       "    }\n",
       "</style>\n",
       "<table border=\"1\" class=\"dataframe\">\n",
       "  <thead>\n",
       "    <tr style=\"text-align: right;\">\n",
       "      <th></th>\n",
       "      <th>Purchase Count</th>\n",
       "      <th>Average Purchase Price</th>\n",
       "      <th>Total Purchase Value</th>\n",
       "    </tr>\n",
       "  </thead>\n",
       "  <tbody>\n",
       "    <tr>\n",
       "      <th>Lisosia93</th>\n",
       "      <td>5</td>\n",
       "      <td>$3.79</td>\n",
       "      <td>$18.96</td>\n",
       "    </tr>\n",
       "    <tr>\n",
       "      <th>Idastidru52</th>\n",
       "      <td>4</td>\n",
       "      <td>$3.86</td>\n",
       "      <td>$15.45</td>\n",
       "    </tr>\n",
       "    <tr>\n",
       "      <th>Chamjask73</th>\n",
       "      <td>3</td>\n",
       "      <td>$4.61</td>\n",
       "      <td>$13.83</td>\n",
       "    </tr>\n",
       "    <tr>\n",
       "      <th>Iral74</th>\n",
       "      <td>4</td>\n",
       "      <td>$3.40</td>\n",
       "      <td>$13.62</td>\n",
       "    </tr>\n",
       "    <tr>\n",
       "      <th>Iskadarya95</th>\n",
       "      <td>3</td>\n",
       "      <td>$4.37</td>\n",
       "      <td>$13.10</td>\n",
       "    </tr>\n",
       "  </tbody>\n",
       "</table>\n",
       "</div>"
      ],
      "text/plain": [
       "             Purchase Count Average Purchase Price Total Purchase Value\n",
       "Lisosia93                 5                  $3.79               $18.96\n",
       "Idastidru52               4                  $3.86               $15.45\n",
       "Chamjask73                3                  $4.61               $13.83\n",
       "Iral74                    4                  $3.40               $13.62\n",
       "Iskadarya95               3                  $4.37               $13.10"
      ]
     },
     "execution_count": 85,
     "metadata": {},
     "output_type": "execute_result"
    }
   ],
   "source": [
    "# to calculate and format Total Purchase Value by SN, also to add Total Purchase Value to the final dataframe\n",
    "top_spenders_df_final[\"Total Purchase Value\"] = top_spenders_df_group\n",
    "top_spenders_df_final[\"Total Purchase Value\"] = top_spenders_df_final[\"Total Purchase Value\"].astype(float)\n",
    "top_spenders_df_final = top_spenders_df_final.sort_values([\"Total Purchase Value\"],ascending=False)\n",
    "top_spenders_df_final[\"Total Purchase Value\"] = top_spenders_df_final[\"Total Purchase Value\"].map(\"${:,.2f}\".format)\n",
    "top_spenders_df_final.head()"
   ]
  },
  {
   "cell_type": "markdown",
   "metadata": {},
   "source": [
    "## Most Popular Items"
   ]
  },
  {
   "cell_type": "markdown",
   "metadata": {},
   "source": [
    "* Retrieve the Item ID, Item Name, and Item Price columns\n",
    "\n",
    "\n",
    "* Group by Item ID and Item Name. Perform calculations to obtain purchase count, average item price, and total purchase value\n",
    "\n",
    "\n",
    "* Create a summary data frame to hold the results\n",
    "\n",
    "\n",
    "* Sort the purchase count column in descending order\n",
    "\n",
    "\n",
    "* Optional: give the displayed data cleaner formatting\n",
    "\n",
    "\n",
    "* Display a preview of the summary data frame\n",
    "\n"
   ]
  },
  {
   "cell_type": "code",
   "execution_count": 86,
   "metadata": {},
   "outputs": [],
   "source": [
    "# to establish new dataframe for Most Popular Items by Item ID, Item Name and Price\n",
    "most_popular_items_df = pd.DataFrame([])\n",
    "most_popular_items_df[\"Item ID\"] = purchase_data[\"Item ID\"]\n",
    "most_popular_items_df[\"Item Name\"] = purchase_data[\"Item Name\"]\n",
    "most_popular_items_df[\"Price\"] = purchase_data[\"Price\"]"
   ]
  },
  {
   "cell_type": "code",
   "execution_count": 87,
   "metadata": {},
   "outputs": [],
   "source": [
    "# to set up dataframe group by Item ID and Item Name\n",
    "most_popular_items_df_group = most_popular_items_df.groupby([\"Item ID\",\"Item Name\"])\n",
    "\n",
    "# to set up new dataframe to include the sum for price used in the \"item price calculation\"\n",
    "most_popular_items_df_group_df = ([])\n",
    "most_popular_items_df_group_df = most_popular_items_df_group.sum()"
   ]
  },
  {
   "cell_type": "code",
   "execution_count": 88,
   "metadata": {},
   "outputs": [],
   "source": [
    "# to establish columns for Purchase Count, Total Purchase Values and Item Price and format as necessary \n",
    "most_popular_items_df_group_df[\"Purchase Count\"] = most_popular_items_df_group.count()\n",
    "most_popular_items_df_group_df[\"Total Purchase Value\"] = most_popular_items_df_group.sum()\n",
    "most_popular_items_df_group_df[\"Total Purchase Value\"] = most_popular_items_df_group_df[\"Total Purchase Value\"].map(\"${:,.2f}\".format)\n",
    "most_popular_items_df_group_df[\"Item Price\"] = most_popular_items_df_group_df[\"Price\"]\n",
    "most_popular_items_df_group_df[\"Item Price\"] = most_popular_items_df_group_df[\"Price\"] / most_popular_items_df_group_df[\"Purchase Count\"]\n",
    "most_popular_items_df_group_df[\"Item Price\"] = most_popular_items_df_group_df[\"Item Price\"].map(\"${:,.2f}\".format)\n",
    "\n",
    "# to remove the \"Price\" Column from the DataFrame (previously needed for the item price calculation) \n",
    "del most_popular_items_df_group_df[\"Price\"]"
   ]
  },
  {
   "cell_type": "code",
   "execution_count": 89,
   "metadata": {},
   "outputs": [
    {
     "data": {
      "text/html": [
       "<div>\n",
       "<style scoped>\n",
       "    .dataframe tbody tr th:only-of-type {\n",
       "        vertical-align: middle;\n",
       "    }\n",
       "\n",
       "    .dataframe tbody tr th {\n",
       "        vertical-align: top;\n",
       "    }\n",
       "\n",
       "    .dataframe thead th {\n",
       "        text-align: right;\n",
       "    }\n",
       "</style>\n",
       "<table border=\"1\" class=\"dataframe\">\n",
       "  <thead>\n",
       "    <tr style=\"text-align: right;\">\n",
       "      <th></th>\n",
       "      <th></th>\n",
       "      <th>Purchase Count</th>\n",
       "      <th>Item Price</th>\n",
       "      <th>Total Purchase Value</th>\n",
       "    </tr>\n",
       "    <tr>\n",
       "      <th>Item ID</th>\n",
       "      <th>Item Name</th>\n",
       "      <th></th>\n",
       "      <th></th>\n",
       "      <th></th>\n",
       "    </tr>\n",
       "  </thead>\n",
       "  <tbody>\n",
       "    <tr>\n",
       "      <th>92</th>\n",
       "      <th>Final Critic</th>\n",
       "      <td>13</td>\n",
       "      <td>$4.61</td>\n",
       "      <td>$59.99</td>\n",
       "    </tr>\n",
       "    <tr>\n",
       "      <th>178</th>\n",
       "      <th>Oathbreaker, Last Hope of the Breaking Storm</th>\n",
       "      <td>12</td>\n",
       "      <td>$4.23</td>\n",
       "      <td>$50.76</td>\n",
       "    </tr>\n",
       "    <tr>\n",
       "      <th>145</th>\n",
       "      <th>Fiery Glass Crusader</th>\n",
       "      <td>9</td>\n",
       "      <td>$4.58</td>\n",
       "      <td>$41.22</td>\n",
       "    </tr>\n",
       "    <tr>\n",
       "      <th>132</th>\n",
       "      <th>Persuasion</th>\n",
       "      <td>9</td>\n",
       "      <td>$3.22</td>\n",
       "      <td>$28.99</td>\n",
       "    </tr>\n",
       "    <tr>\n",
       "      <th>108</th>\n",
       "      <th>Extraction, Quickblade Of Trembling Hands</th>\n",
       "      <td>9</td>\n",
       "      <td>$3.53</td>\n",
       "      <td>$31.77</td>\n",
       "    </tr>\n",
       "  </tbody>\n",
       "</table>\n",
       "</div>"
      ],
      "text/plain": [
       "                                                      Purchase Count  \\\n",
       "Item ID Item Name                                                      \n",
       "92      Final Critic                                              13   \n",
       "178     Oathbreaker, Last Hope of the Breaking Storm              12   \n",
       "145     Fiery Glass Crusader                                       9   \n",
       "132     Persuasion                                                 9   \n",
       "108     Extraction, Quickblade Of Trembling Hands                  9   \n",
       "\n",
       "                                                     Item Price  \\\n",
       "Item ID Item Name                                                 \n",
       "92      Final Critic                                      $4.61   \n",
       "178     Oathbreaker, Last Hope of the Breaking Storm      $4.23   \n",
       "145     Fiery Glass Crusader                              $4.58   \n",
       "132     Persuasion                                        $3.22   \n",
       "108     Extraction, Quickblade Of Trembling Hands         $3.53   \n",
       "\n",
       "                                                     Total Purchase Value  \n",
       "Item ID Item Name                                                          \n",
       "92      Final Critic                                               $59.99  \n",
       "178     Oathbreaker, Last Hope of the Breaking Storm               $50.76  \n",
       "145     Fiery Glass Crusader                                       $41.22  \n",
       "132     Persuasion                                                 $28.99  \n",
       "108     Extraction, Quickblade Of Trembling Hands                  $31.77  "
      ]
     },
     "execution_count": 89,
     "metadata": {},
     "output_type": "execute_result"
    }
   ],
   "source": [
    "# to sort Dataframe in decending order by \"Purchase Count\"\n",
    "most_popular_items_df_group_df = most_popular_items_df_group_df.sort_values([\"Purchase Count\"],ascending=False)\n",
    "\n",
    "# to sort column names - \"Item Price\" prior to \"Total Purchase Value\" \n",
    "columns = [\"Purchase Count\", \"Item Price\", \"Total Purchase Value\"]\n",
    "\n",
    "#final report for Most Popular Items\n",
    "final_most_popular_items_df_group_df = most_popular_items_df_group_df[columns]\n",
    "final_most_popular_items_df_group_df.head()"
   ]
  },
  {
   "cell_type": "markdown",
   "metadata": {},
   "source": [
    "## Most Profitable Items"
   ]
  },
  {
   "cell_type": "markdown",
   "metadata": {},
   "source": [
    "* Sort the above table by total purchase value in descending order\n",
    "\n",
    "\n",
    "* Optional: give the displayed data cleaner formatting\n",
    "\n",
    "\n",
    "* Display a preview of the data frame\n",
    "\n"
   ]
  },
  {
   "cell_type": "code",
   "execution_count": 90,
   "metadata": {},
   "outputs": [
    {
     "data": {
      "text/html": [
       "<div>\n",
       "<style scoped>\n",
       "    .dataframe tbody tr th:only-of-type {\n",
       "        vertical-align: middle;\n",
       "    }\n",
       "\n",
       "    .dataframe tbody tr th {\n",
       "        vertical-align: top;\n",
       "    }\n",
       "\n",
       "    .dataframe thead th {\n",
       "        text-align: right;\n",
       "    }\n",
       "</style>\n",
       "<table border=\"1\" class=\"dataframe\">\n",
       "  <thead>\n",
       "    <tr style=\"text-align: right;\">\n",
       "      <th></th>\n",
       "      <th></th>\n",
       "      <th>Purchase Count</th>\n",
       "      <th>Item Price</th>\n",
       "      <th>Total Purchase Value</th>\n",
       "    </tr>\n",
       "    <tr>\n",
       "      <th>Item ID</th>\n",
       "      <th>Item Name</th>\n",
       "      <th></th>\n",
       "      <th></th>\n",
       "      <th></th>\n",
       "    </tr>\n",
       "  </thead>\n",
       "  <tbody>\n",
       "    <tr>\n",
       "      <th>92</th>\n",
       "      <th>Final Critic</th>\n",
       "      <td>13</td>\n",
       "      <td>$4.61</td>\n",
       "      <td>$59.99</td>\n",
       "    </tr>\n",
       "    <tr>\n",
       "      <th>178</th>\n",
       "      <th>Oathbreaker, Last Hope of the Breaking Storm</th>\n",
       "      <td>12</td>\n",
       "      <td>$4.23</td>\n",
       "      <td>$50.76</td>\n",
       "    </tr>\n",
       "    <tr>\n",
       "      <th>82</th>\n",
       "      <th>Nirvana</th>\n",
       "      <td>9</td>\n",
       "      <td>$4.90</td>\n",
       "      <td>$44.10</td>\n",
       "    </tr>\n",
       "    <tr>\n",
       "      <th>145</th>\n",
       "      <th>Fiery Glass Crusader</th>\n",
       "      <td>9</td>\n",
       "      <td>$4.58</td>\n",
       "      <td>$41.22</td>\n",
       "    </tr>\n",
       "    <tr>\n",
       "      <th>103</th>\n",
       "      <th>Singed Scalpel</th>\n",
       "      <td>8</td>\n",
       "      <td>$4.35</td>\n",
       "      <td>$34.80</td>\n",
       "    </tr>\n",
       "  </tbody>\n",
       "</table>\n",
       "</div>"
      ],
      "text/plain": [
       "                                                      Purchase Count  \\\n",
       "Item ID Item Name                                                      \n",
       "92      Final Critic                                              13   \n",
       "178     Oathbreaker, Last Hope of the Breaking Storm              12   \n",
       "82      Nirvana                                                    9   \n",
       "145     Fiery Glass Crusader                                       9   \n",
       "103     Singed Scalpel                                             8   \n",
       "\n",
       "                                                     Item Price  \\\n",
       "Item ID Item Name                                                 \n",
       "92      Final Critic                                      $4.61   \n",
       "178     Oathbreaker, Last Hope of the Breaking Storm      $4.23   \n",
       "82      Nirvana                                           $4.90   \n",
       "145     Fiery Glass Crusader                              $4.58   \n",
       "103     Singed Scalpel                                    $4.35   \n",
       "\n",
       "                                                     Total Purchase Value  \n",
       "Item ID Item Name                                                          \n",
       "92      Final Critic                                               $59.99  \n",
       "178     Oathbreaker, Last Hope of the Breaking Storm               $50.76  \n",
       "82      Nirvana                                                    $44.10  \n",
       "145     Fiery Glass Crusader                                       $41.22  \n",
       "103     Singed Scalpel                                             $34.80  "
      ]
     },
     "execution_count": 90,
     "metadata": {},
     "output_type": "execute_result"
    }
   ],
   "source": [
    "# To copy the above data from \"most Popular items\" = GroupBy: \"Item ID\",\"Item Name\", summed by \"Total Purchase Value\"\n",
    "most_popular_items_df_group_df[\"Total Purchase Value\"] = most_popular_items_df_group.sum()\n",
    "\n",
    "#Sort Data by Total Purchase Value\n",
    "most_popular_items_df_group_df = most_popular_items_df_group_df.sort_values([\"Total Purchase Value\"],ascending=False)\n",
    "\n",
    "#To format Total Purchase Value with \"$\" and two decimal places\n",
    "most_popular_items_df_group_df[\"Total Purchase Value\"] = most_popular_items_df_group_df[\"Total Purchase Value\"].map(\"${:,.2f}\".format)\n",
    "\n",
    "#To arrange columns in the following order: \"Purchase Count\", \"Item Price\", \"Total Purchase Value\"   \n",
    "columns = [\"Purchase Count\", \"Item Price\", \"Total Purchase Value\"]\n",
    "final_most_popular_items_df_group_df = most_popular_items_df_group_df [columns]\n",
    "final_most_popular_items_df_group_df.head()"
   ]
  }
 ],
 "metadata": {
  "anaconda-cloud": {},
  "kernel_info": {
   "name": "python3"
  },
  "kernelspec": {
   "display_name": "Python [conda env:root] *",
   "language": "python",
   "name": "conda-root-py"
  },
  "language_info": {
   "codemirror_mode": {
    "name": "ipython",
    "version": 3
   },
   "file_extension": ".py",
   "mimetype": "text/x-python",
   "name": "python",
   "nbconvert_exporter": "python",
   "pygments_lexer": "ipython3",
   "version": "3.8.5"
  },
  "latex_envs": {
   "LaTeX_envs_menu_present": true,
   "autoclose": false,
   "autocomplete": true,
   "bibliofile": "biblio.bib",
   "cite_by": "apalike",
   "current_citInitial": 1,
   "eqLabelWithNumbers": true,
   "eqNumInitial": 1,
   "hotkeys": {
    "equation": "Ctrl-E",
    "itemize": "Ctrl-I"
   },
   "labels_anchors": false,
   "latex_user_defs": false,
   "report_style_numbering": false,
   "user_envs_cfg": false
  },
  "nteract": {
   "version": "0.2.0"
  }
 },
 "nbformat": 4,
 "nbformat_minor": 4
}
